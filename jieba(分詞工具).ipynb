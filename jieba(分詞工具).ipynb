{
  "nbformat": 4,
  "nbformat_minor": 0,
  "metadata": {
    "colab": {
      "name": "jieba(分詞工具).ipynb",
      "provenance": [],
      "authorship_tag": "ABX9TyPupmPsKKgS+iQkq9kBnZnI",
      "include_colab_link": true
    },
    "kernelspec": {
      "name": "python3",
      "display_name": "Python 3"
    },
    "language_info": {
      "name": "python"
    }
  },
  "cells": [
    {
      "cell_type": "markdown",
      "metadata": {
        "id": "view-in-github",
        "colab_type": "text"
      },
      "source": [
        "<a href=\"https://colab.research.google.com/github/yihong1011/TibameML/blob/main/jieba(%E5%88%86%E8%A9%9E%E5%B7%A5%E5%85%B7).ipynb\" target=\"_parent\"><img src=\"https://colab.research.google.com/assets/colab-badge.svg\" alt=\"Open In Colab\"/></a>"
      ]
    },
    {
      "cell_type": "markdown",
      "source": [
        "1.分詞\n",
        "\n",
        "2.TF-IDF \\\n",
        "抓出關鍵詞彙的功能\\\n",
        "判斷:\n",
        "*   次數(TF):高，重要性高⇑\n",
        "*   生活中的常用度(IDF):高，重要性低⇓\n",
        "\n",
        "重要性=TF*log(1/IDF)\n",
        "\n",
        "\n",
        "\n"
      ],
      "metadata": {
        "id": "kI9mDMYj1nXS"
      }
    },
    {
      "cell_type": "code",
      "execution_count": null,
      "metadata": {
        "id": "2_F8ogl71VbB"
      },
      "outputs": [],
      "source": [
        "\n"
      ]
    }
  ]
}