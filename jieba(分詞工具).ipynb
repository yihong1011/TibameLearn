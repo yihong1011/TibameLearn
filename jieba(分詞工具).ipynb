{
  "nbformat": 4,
  "nbformat_minor": 0,
  "metadata": {
    "colab": {
      "name": "jieba(分詞工具).ipynb",
      "provenance": [],
      "authorship_tag": "ABX9TyOJ56iCuiWcHHxLBY9UWT8a",
      "include_colab_link": true
    },
    "kernelspec": {
      "name": "python3",
      "display_name": "Python 3"
    },
    "language_info": {
      "name": "python"
    }
  },
  "cells": [
    {
      "cell_type": "markdown",
      "metadata": {
        "id": "view-in-github",
        "colab_type": "text"
      },
      "source": [
        "<a href=\"https://colab.research.google.com/github/yihong1011/TibameML/blob/main/jieba(%E5%88%86%E8%A9%9E%E5%B7%A5%E5%85%B7).ipynb\" target=\"_parent\"><img src=\"https://colab.research.google.com/assets/colab-badge.svg\" alt=\"Open In Colab\"/></a>"
      ]
    },
    {
      "cell_type": "markdown",
      "source": [
        "[fxsjy/jieba: 结巴中文分词](https://github.com/fxsjy/jieba)\n",
        "\n",
        "\n",
        "1.分詞\n",
        "\n",
        "2.TF-IDF \\\n",
        "抓出關鍵詞彙的功能\\\n",
        "判斷:\n",
        "*   次數(TF):高，重要性高⇑\n",
        "*   生活中的常用度(IDF):高，重要性低⇓\n",
        "\n",
        "重要性=TF*log(1/IDF)\n",
        "\n",
        "\n",
        "\n"
      ],
      "metadata": {
        "id": "kI9mDMYj1nXS"
      }
    },
    {
      "cell_type": "code",
      "execution_count": 1,
      "metadata": {
        "id": "2_F8ogl71VbB"
      },
      "outputs": [],
      "source": [
        "news = \"\"\"\n",
        "歐美受Omicron變異株' rel='Omicron變異株'>Omicron變異株的新亞型BA.4及BA.5影響，疫情再起，國外專家預測BA.5將成為全球新冠主流病毒株。國內昨天首度驗出BA.4及BA.5，共有五例，皆為機場入境攔截個案，指揮中心安排相關接觸者採檢，尚無擴散情形。\n",
        "\n",
        "指揮中心醫療應變組副組長羅一鈞表示，相較於BA.1、BA.2，新亞型BA.4、BA.5的傳播力約增加二成至三成，且具有很強的傳染力跟免疫逃脫，一旦進入社區傳播開來就會造成社區流行，可能提高民眾二次感染風險。\n",
        "\n",
        "毒性未較高 專家籲別恐慌\n",
        "長庚大學新興病毒研究中心主任施信如說，「台灣檢測到BA.4和BA.5一點都不意外」，這仍屬於Omicron變異株，預期台灣年底疫情可能會再起，但規模不會像現在這麼大，無須過於擔心。\n",
        "\n",
        "中國附醫副院長黃高彬表示，之前我國嚴守邊境，BA.1和BA.2依舊在國內造成大流行，而BA.4和BA.5的毒性並未較高，只要監控重症和死亡的人數，不須過於恐慌，應學習「和病毒共存」。\n",
        "\n",
        "全台確診人數 占人口12%\n",
        "昨天本土個案新增四萬五○八一例，一○九例死亡、中重症三七八例，新增個案為一個多月來新低。指揮中心疫情監測組組長周志浩表示，恐因前一天為周日關係，確診、死亡人數都較少，但疫情仍呈現北部降溫、中南部高原期的趨勢。\n",
        "\n",
        "各縣市新增病例皆未破萬，前六名為高雄市七一八四例、台中市六六九四例、新北市五四七○例、桃園市三九七一例、台南市三九六九例、彰化縣三五四五例。目前確診人數占人口比率百分之十二點四四，六都感染率以新北最高，超過一成八，其次為桃園市近一成六。\n",
        "\n",
        "新亞型變種 40多國檢出\n",
        "機場攔截五例BA.4、BA.5變異株為四男一女，年齡分布為三十至六十多歲，BA.4為智利入境的女性，BA.5二例來自美國、一例來自土耳其、一例來自波蘭，均為男性。\n",
        "\n",
        "Omicron新亞型變異株BA.4及BA.5分別於今年一月及二月於南非被發現，社區傳播能力超強，以致四至五月南非又掀起第五波疫情。\n",
        "\n",
        "ＷＨＯ六月八日資料指出，已有四十多個國家檢出BA.4及BA.5，且全球發現該二株變異株感染國家及病例數均持續增加，包括葡萄牙、英國、紐西蘭、新加坡、韓國、日本、香港都有出現案例。\n",
        "\n",
        "研究顯示，BA.4及BA.5傳染力雖高，但致重症機率無明顯較高。\"\"\"\n"
      ]
    },
    {
      "cell_type": "code",
      "source": [
        "import jieba.analyse\n",
        "jieba.analyse.extract_tags(news)"
      ],
      "metadata": {
        "colab": {
          "base_uri": "https://localhost:8080/"
        },
        "id": "KpibCAiQ7UGc",
        "outputId": "31ed8993-299b-499d-c896-9b6a495a96bd"
      },
      "execution_count": 2,
      "outputs": [
        {
          "output_type": "stream",
          "name": "stderr",
          "text": [
            "Building prefix dict from the default dictionary ...\n",
            "Dumping model to file cache /tmp/jieba.cache\n",
            "Loading model cost 1.032 seconds.\n",
            "Prefix dict has been built successfully.\n"
          ]
        },
        {
          "output_type": "execute_result",
          "data": {
            "text/plain": [
              "['BA.5',\n",
              " 'BA.4',\n",
              " '變異株',\n",
              " 'Omicron',\n",
              " '新亞型',\n",
              " '人數',\n",
              " '疫情',\n",
              " '五例',\n",
              " '指揮',\n",
              " '確診',\n",
              " '一例',\n",
              " '重症',\n",
              " '國內',\n",
              " '機場',\n",
              " 'BA.1',\n",
              " 'BA.2',\n",
              " '傳染力',\n",
              " '社區',\n",
              " '台灣',\n",
              " '個案']"
            ]
          },
          "metadata": {},
          "execution_count": 2
        }
      ]
    }
  ]
}