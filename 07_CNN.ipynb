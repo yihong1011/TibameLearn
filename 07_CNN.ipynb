{
  "nbformat": 4,
  "nbformat_minor": 0,
  "metadata": {
    "colab": {
      "name": "07_CNN.ipynb",
      "provenance": [],
      "authorship_tag": "ABX9TyPuUjrT+kSsg5EvTDDmjqMC",
      "include_colab_link": true
    },
    "kernelspec": {
      "name": "python3",
      "display_name": "Python 3"
    },
    "language_info": {
      "name": "python"
    },
    "accelerator": "GPU",
    "gpuClass": "standard"
  },
  "cells": [
    {
      "cell_type": "markdown",
      "metadata": {
        "id": "view-in-github",
        "colab_type": "text"
      },
      "source": [
        "<a href=\"https://colab.research.google.com/github/yihong1011/TibameML/blob/main/07_CNN.ipynb\" target=\"_parent\"><img src=\"https://colab.research.google.com/assets/colab-badge.svg\" alt=\"Open In Colab\"/></a>"
      ]
    },
    {
      "cell_type": "markdown",
      "source": [
        "#### 載入cifar10"
      ],
      "metadata": {
        "id": "hk4qJElcveOB"
      }
    },
    {
      "cell_type": "code",
      "source": [
        "from tensorflow.keras.datasets.cifar10 import load_data\n",
        "(x_train, y_train), (x_test, y_test) = load_data()"
      ],
      "metadata": {
        "colab": {
          "base_uri": "https://localhost:8080/"
        },
        "id": "u01omASCuVPB",
        "outputId": "3677a7db-7945-4e50-edf3-cc915dff2d94"
      },
      "execution_count": 1,
      "outputs": [
        {
          "output_type": "stream",
          "name": "stdout",
          "text": [
            "Downloading data from https://www.cs.toronto.edu/~kriz/cifar-10-python.tar.gz\n",
            "170500096/170498071 [==============================] - 13s 0us/step\n",
            "170508288/170498071 [==============================] - 13s 0us/step\n"
          ]
        }
      ]
    },
    {
      "cell_type": "code",
      "execution_count": 2,
      "metadata": {
        "colab": {
          "base_uri": "https://localhost:8080/"
        },
        "id": "yRibmW6uwN1g",
        "outputId": "513c2953-cbd4-45f5-d75c-141b1ee3374e"
      },
      "outputs": [
        {
          "output_type": "stream",
          "name": "stdout",
          "text": [
            "(50000, 32, 32, 3)\n",
            "(50000, 1)\n",
            "(10000, 32, 32, 3)\n",
            "(10000, 1)\n"
          ]
        }
      ],
      "source": [
        "print(x_train.shape)\n",
        "print(y_train.shape)\n",
        "print(x_test.shape)\n",
        "print(y_test.shape)"
      ]
    },
    {
      "cell_type": "code",
      "source": [
        "trans =[\n",
        "    \"airplane\",\n",
        "    \"automobile\",\n",
        "    \"bird\",\n",
        "    \"cat\",\n",
        "    \"deer\",\n",
        "    \"dog\",\n",
        "    \"frog\",\n",
        "    \"horse\",\n",
        "    \"ship\",\n",
        "    \"truck\"\n",
        "]"
      ],
      "metadata": {
        "id": "3ne8ReWTw6EQ"
      },
      "execution_count": 3,
      "outputs": []
    },
    {
      "cell_type": "code",
      "source": [
        "import matplotlib.pyplot as plt\n",
        "import random\n",
        "idx = random.randint(0,50000)\n",
        "print(\"編號\",idx,\"的答案是:\", trans[y_train[idx][0]])\n",
        "plt.imshow(x_train[idx])"
      ],
      "metadata": {
        "colab": {
          "base_uri": "https://localhost:8080/",
          "height": 301
        },
        "id": "LKiHZ7C2vZZ8",
        "outputId": "4ba92138-eb18-4514-b0ba-19d4a58d356e"
      },
      "execution_count": 6,
      "outputs": [
        {
          "output_type": "stream",
          "name": "stdout",
          "text": [
            "編號 31986 的答案是: truck\n"
          ]
        },
        {
          "output_type": "execute_result",
          "data": {
            "text/plain": [
              "<matplotlib.image.AxesImage at 0x7fbf90591990>"
            ]
          },
          "metadata": {},
          "execution_count": 6
        },
        {
          "output_type": "display_data",
          "data": {
            "text/plain": [
              "<Figure size 432x288 with 1 Axes>"
            ],
            "image/png": "[encoded data removed]"
          },
          "metadata": {
            "needs_background": "light"
          }
        }
      ]
    },
    {
      "cell_type": "markdown",
      "source": [
        "#### 建置網路"
      ],
      "metadata": {
        "id": "SVVOzk1XHIiX"
      }
    },
    {
      "cell_type": "code",
      "source": [
        "from tensorflow.keras.models import Sequential\n",
        "from tensorflow.keras.layers import Conv2D, MaxPooling2D, Dense, Flatten, GlobalAveragePooling2D\n",
        "layers_test = [\n",
        "    Conv2D(64, 3, padding=\"same\", activation=\"relu\", input_shape = (32, 32, 3)),\n",
        "    MaxPooling2D(),\n",
        "    Conv2D(128, 3, padding=\"same\", activation=\"relu\"),\n",
        "    MaxPooling2D(),\n",
        "    Conv2D(256, 3, padding=\"same\", activation=\"relu\"),\n",
        "    MaxPooling2D(),\n",
        "    Flatten(),\n",
        "    Dense(10, activation=\"softmax\")\n",
        "]\n",
        "model_test = Sequential(layers_test)\n",
        "model_test.summary()"
      ],
      "metadata": {
        "colab": {
          "base_uri": "https://localhost:8080/"
        },
        "id": "pen7O7TXwnMo",
        "outputId": "e755b0fe-33f3-4ee2-b2de-d5fe398f9c17"
      },
      "execution_count": 15,
      "outputs": [
        {
          "output_type": "stream",
          "name": "stdout",
          "text": [
            "Model: \"sequential_8\"\n",
            "_________________________________________________________________\n",
            " Layer (type)                Output Shape              Param #   \n",
            "=================================================================\n",
            " conv2d_25 (Conv2D)          (None, 32, 32, 64)        1792      \n",
            "                                                                 \n",
            " max_pooling2d_24 (MaxPoolin  (None, 16, 16, 64)       0         \n",
            " g2D)                                                            \n",
            "                                                                 \n",
            " conv2d_26 (Conv2D)          (None, 16, 16, 128)       73856     \n",
            "                                                                 \n",
            " max_pooling2d_25 (MaxPoolin  (None, 8, 8, 128)        0         \n",
            " g2D)                                                            \n",
            "                                                                 \n",
            " conv2d_27 (Conv2D)          (None, 8, 8, 256)         295168    \n",
            "                                                                 \n",
            " max_pooling2d_26 (MaxPoolin  (None, 4, 4, 256)        0         \n",
            " g2D)                                                            \n",
            "                                                                 \n",
            " flatten_7 (Flatten)         (None, 4096)              0         \n",
            "                                                                 \n",
            " dense_7 (Dense)             (None, 10)                40970     \n",
            "                                                                 \n",
            "=================================================================\n",
            "Total params: 411,786\n",
            "Trainable params: 411,786\n",
            "Non-trainable params: 0\n",
            "_________________________________________________________________\n"
          ]
        }
      ]
    },
    {
      "cell_type": "code",
      "source": [
        "layers = [\n",
        "    Conv2D(64, 3, padding=\"same\", activation=\"relu\", input_shape = (32, 32, 3)),\n",
        "    MaxPooling2D(),\n",
        "    Conv2D(128, 3, padding=\"same\", activation=\"relu\"),\n",
        "    MaxPooling2D(),\n",
        "    Conv2D(256, 3, padding=\"same\", activation=\"relu\"),\n",
        "    MaxPooling2D(),\n",
        "    Conv2D(512, 3, padding=\"same\", activation=\"relu\"),\n",
        "    MaxPooling2D(),\n",
        "    GlobalAveragePooling2D(),\n",
        "    Dense(10, activation=\"softmax\")\n",
        "]\n",
        "model = Sequential(layers)\n",
        "model.summary()"
      ],
      "metadata": {
        "id": "UTznuVmg1IOm",
        "colab": {
          "base_uri": "https://localhost:8080/"
        },
        "outputId": "d4ac20b0-b632-41e6-e60f-fbe086ac4786"
      },
      "execution_count": 25,
      "outputs": [
        {
          "output_type": "stream",
          "name": "stdout",
          "text": [
            "Model: \"sequential_9\"\n",
            "_________________________________________________________________\n",
            " Layer (type)                Output Shape              Param #   \n",
            "=================================================================\n",
            " conv2d_28 (Conv2D)          (None, 32, 32, 64)        1792      \n",
            "                                                                 \n",
            " max_pooling2d_27 (MaxPoolin  (None, 16, 16, 64)       0         \n",
            " g2D)                                                            \n",
            "                                                                 \n",
            " conv2d_29 (Conv2D)          (None, 16, 16, 128)       73856     \n",
            "                                                                 \n",
            " max_pooling2d_28 (MaxPoolin  (None, 8, 8, 128)        0         \n",
            " g2D)                                                            \n",
            "                                                                 \n",
            " conv2d_30 (Conv2D)          (None, 8, 8, 256)         295168    \n",
            "                                                                 \n",
            " max_pooling2d_29 (MaxPoolin  (None, 4, 4, 256)        0         \n",
            " g2D)                                                            \n",
            "                                                                 \n",
            " conv2d_31 (Conv2D)          (None, 4, 4, 512)         1180160   \n",
            "                                                                 \n",
            " max_pooling2d_30 (MaxPoolin  (None, 2, 2, 512)        0         \n",
            " g2D)                                                            \n",
            "                                                                 \n",
            " global_average_pooling2d_1   (None, 512)              0         \n",
            " (GlobalAveragePooling2D)                                        \n",
            "                                                                 \n",
            " dense_8 (Dense)             (None, 10)                5130      \n",
            "                                                                 \n",
            "=================================================================\n",
            "Total params: 1,556,106\n",
            "Trainable params: 1,556,106\n",
            "Non-trainable params: 0\n",
            "_________________________________________________________________\n"
          ]
        }
      ]
    },
    {
      "cell_type": "code",
      "source": [
        "from tensorflow.keras.losses import SparseCategoricalCrossentropy\n",
        "model.compile(loss=SparseCategoricalCrossentropy(),\n",
        "       optimizer=\"adam\",\n",
        "       metrics=[\"accuracy\"])\n",
        "x_train_norm = x_train / 255.0\n",
        "x_test_norm = x_test / 255.0"
      ],
      "metadata": {
        "id": "z-5ig8Ti_0AK"
      },
      "execution_count": 26,
      "outputs": []
    },
    {
      "cell_type": "code",
      "source": [
        "# batch_size: 你看多少筆再進行一次梯度下降(5[圖片大/訓練資料少]-200[圖片小/訓練資料多])\n",
        "# epochs: 全體資料(60000) 你要看幾輪(我們什麼時候要停的關鍵)\n",
        "# validation_split: 測試什麼時候停下來要用沒看過的資料(val loss穩定的時候就停, 不要過擬合)\n",
        "# (60000 * 0.9) / 200 -> 270\n",
        "# verbose: 0(quiet) 1(full) 2(no progress bar)\n",
        "from tensorflow.keras.callbacks import ModelCheckpoint, EarlyStopping\n",
        "callbacks = [\n",
        "    ModelCheckpoint(\"cnn.h5\", save_best_only=True),\n",
        "    EarlyStopping(patience=5, restore_best_weights=True)\n",
        "]\n",
        "model.fit(x_train_norm,\n",
        "     y_train,\n",
        "     batch_size=200,\n",
        "     epochs=50,\n",
        "     validation_split=0.1,\n",
        "     verbose=2,\n",
        "     callbacks=callbacks)"
      ],
      "metadata": {
        "colab": {
          "base_uri": "https://localhost:8080/"
        },
        "id": "Mwn5N28wCoWZ",
        "outputId": "45417034-6c5b-4daa-b05f-fafa89a47708"
      },
      "execution_count": 27,
      "outputs": [
        {
          "output_type": "stream",
          "name": "stdout",
          "text": [
            "Epoch 1/50\n",
            "225/225 - 5s - loss: 1.6796 - accuracy: 0.3794 - val_loss: 1.3423 - val_accuracy: 0.5078 - 5s/epoch - 24ms/step\n",
            "Epoch 2/50\n",
            "225/225 - 4s - loss: 1.2345 - accuracy: 0.5567 - val_loss: 1.0815 - val_accuracy: 0.6166 - 4s/epoch - 19ms/step\n",
            "Epoch 3/50\n",
            "225/225 - 4s - loss: 1.0026 - accuracy: 0.6455 - val_loss: 0.9756 - val_accuracy: 0.6528 - 4s/epoch - 19ms/step\n",
            "Epoch 4/50\n",
            "225/225 - 4s - loss: 0.8692 - accuracy: 0.6973 - val_loss: 0.8212 - val_accuracy: 0.7164 - 4s/epoch - 19ms/step\n",
            "Epoch 5/50\n",
            "225/225 - 4s - loss: 0.7446 - accuracy: 0.7409 - val_loss: 0.8113 - val_accuracy: 0.7232 - 4s/epoch - 20ms/step\n",
            "Epoch 6/50\n",
            "225/225 - 4s - loss: 0.6635 - accuracy: 0.7692 - val_loss: 0.7277 - val_accuracy: 0.7502 - 4s/epoch - 20ms/step\n",
            "Epoch 7/50\n",
            "225/225 - 4s - loss: 0.5867 - accuracy: 0.7971 - val_loss: 0.6788 - val_accuracy: 0.7672 - 4s/epoch - 20ms/step\n",
            "Epoch 8/50\n",
            "225/225 - 4s - loss: 0.5222 - accuracy: 0.8193 - val_loss: 0.6650 - val_accuracy: 0.7772 - 4s/epoch - 20ms/step\n",
            "Epoch 9/50\n",
            "225/225 - 4s - loss: 0.4598 - accuracy: 0.8399 - val_loss: 0.6428 - val_accuracy: 0.7864 - 4s/epoch - 20ms/step\n",
            "Epoch 10/50\n",
            "225/225 - 4s - loss: 0.4028 - accuracy: 0.8609 - val_loss: 0.6743 - val_accuracy: 0.7714 - 4s/epoch - 19ms/step\n",
            "Epoch 11/50\n",
            "225/225 - 4s - loss: 0.3519 - accuracy: 0.8788 - val_loss: 0.6484 - val_accuracy: 0.7924 - 4s/epoch - 19ms/step\n",
            "Epoch 12/50\n",
            "225/225 - 4s - loss: 0.2936 - accuracy: 0.8997 - val_loss: 0.6890 - val_accuracy: 0.7804 - 4s/epoch - 19ms/step\n",
            "Epoch 13/50\n",
            "225/225 - 4s - loss: 0.2335 - accuracy: 0.9212 - val_loss: 0.6960 - val_accuracy: 0.7908 - 4s/epoch - 19ms/step\n",
            "Epoch 14/50\n",
            "225/225 - 4s - loss: 0.2062 - accuracy: 0.9317 - val_loss: 0.7096 - val_accuracy: 0.7884 - 4s/epoch - 20ms/step\n"
          ]
        },
        {
          "output_type": "execute_result",
          "data": {
            "text/plain": [
              "<keras.callbacks.History at 0x7fbecc7b5690>"
            ]
          },
          "metadata": {},
          "execution_count": 27
        }
      ]
    },
    {
      "cell_type": "code",
      "source": [
        "model.evaluate(x_test_norm, y_test)"
      ],
      "metadata": {
        "id": "Csnb9Px5Fmkw",
        "outputId": "a59e7c61-2e9f-4fda-b980-e2afa2630ba8",
        "colab": {
          "base_uri": "https://localhost:8080/"
        }
      },
      "execution_count": 28,
      "outputs": [
        {
          "output_type": "stream",
          "name": "stdout",
          "text": [
            "313/313 [==============================] - 2s 4ms/step - loss: 0.6748 - accuracy: 0.7721\n"
          ]
        },
        {
          "output_type": "execute_result",
          "data": {
            "text/plain": [
              "[0.6748222708702087, 0.7720999717712402]"
            ]
          },
          "metadata": {},
          "execution_count": 28
        }
      ]
    },
    {
      "cell_type": "code",
      "source": [
        "pre = model.predict(x_test_norm).argmax(axis=-1)\n",
        "y_test_reshape = y_test.reshape(-1)"
      ],
      "metadata": {
        "id": "Z0HLKn52HCD3"
      },
      "execution_count": 32,
      "outputs": []
    },
    {
      "cell_type": "code",
      "source": [
        "import pandas as pd\n",
        "from sklearn.metrics import confusion_matrix\n",
        "mat = confusion_matrix(y_test_reshape, pre)\n",
        "pd.DataFrame(mat,\n",
        "      columns=[\"{}(預測)\".format(trans[i]) for i in range(10)],\n",
        "      index=[\"{}(真實)\".format(trans[i]) for i in range(10)])"
      ],
      "metadata": {
        "id": "xN31wm3VHnfb",
        "outputId": "7bda06b1-d591-4545-9081-638891140a29",
        "colab": {
          "base_uri": "https://localhost:8080/",
          "height": 363
        }
      },
      "execution_count": 33,
      "outputs": [
        {
          "output_type": "execute_result",
          "data": {
            "text/plain": [
              "                airplane(預測)  automobile(預測)  bird(預測)  cat(預測)  deer(預測)  \\\n",
              "airplane(真實)             852              13        56        7         5   \n",
              "automobile(真實)            21             890         7        4         0   \n",
              "bird(真實)                  66               3       714       36        52   \n",
              "cat(真實)                   27               6       104      598        42   \n",
              "deer(真實)                  36               2        71       43       714   \n",
              "dog(真實)                   17               3        51      156        44   \n",
              "frog(真實)                   4               5        33       44        11   \n",
              "horse(真實)                 25               3        59       40        43   \n",
              "ship(真實)                  69              31        22       11         1   \n",
              "truck(真實)                 37              73         9       12         0   \n",
              "\n",
              "                dog(預測)  frog(預測)  horse(預測)  ship(預測)  truck(預測)  \n",
              "airplane(真實)          3         8          1        28         27  \n",
              "automobile(真實)        0         7          0        16         55  \n",
              "bird(真實)             36        75          6         2         10  \n",
              "cat(真實)             117        68         19         5         14  \n",
              "deer(真實)             32        60         31         5          6  \n",
              "dog(真實)             650        44         18         8          9  \n",
              "frog(真實)             10       881          4         4          4  \n",
              "horse(真實)            50        11        750         2         17  \n",
              "ship(真實)              3         5          0       834         24  \n",
              "truck(真實)             3         6          7        15        838  "
            ],
            "text/html": [
              "\n",
              "  <div id=\"df-272457be-bb55-4508-bc37-aaebe398fee6\">\n",
              "    <div class=\"colab-df-container\">\n",
              "      <div>\n",
              "<style scoped>\n",
              "    .dataframe tbody tr th:only-of-type {\n",
              "        vertical-align: middle;\n",
              "    }\n",
              "\n",
              "    .dataframe tbody tr th {\n",
              "        vertical-align: top;\n",
              "    }\n",
              "\n",
              "    .dataframe thead th {\n",
              "        text-align: right;\n",
              "    }\n",
              "</style>\n",
              "<table border=\"1\" class=\"dataframe\">\n",
              "  <thead>\n",
              "    <tr style=\"text-align: right;\">\n",
              "      <th></th>\n",
              "      <th>airplane(預測)</th>\n",
              "      <th>automobile(預測)</th>\n",
              "      <th>bird(預測)</th>\n",
              "      <th>cat(預測)</th>\n",
              "      <th>deer(預測)</th>\n",
              "      <th>dog(預測)</th>\n",
              "      <th>frog(預測)</th>\n",
              "      <th>horse(預測)</th>\n",
              "      <th>ship(預測)</th>\n",
              "      <th>truck(預測)</th>\n",
              "    </tr>\n",
              "  </thead>\n",
              "  <tbody>\n",
              "    <tr>\n",
              "      <th>airplane(真實)</th>\n",
              "      <td>852</td>\n",
              "      <td>13</td>\n",
              "      <td>56</td>\n",
              "      <td>7</td>\n",
              "      <td>5</td>\n",
              "      <td>3</td>\n",
              "      <td>8</td>\n",
              "      <td>1</td>\n",
              "      <td>28</td>\n",
              "      <td>27</td>\n",
              "    </tr>\n",
              "    <tr>\n",
              "      <th>automobile(真實)</th>\n",
              "      <td>21</td>\n",
              "      <td>890</td>\n",
              "      <td>7</td>\n",
              "      <td>4</td>\n",
              "      <td>0</td>\n",
              "      <td>0</td>\n",
              "      <td>7</td>\n",
              "      <td>0</td>\n",
              "      <td>16</td>\n",
              "      <td>55</td>\n",
              "    </tr>\n",
              "    <tr>\n",
              "      <th>bird(真實)</th>\n",
              "      <td>66</td>\n",
              "      <td>3</td>\n",
              "      <td>714</td>\n",
              "      <td>36</td>\n",
              "      <td>52</td>\n",
              "      <td>36</td>\n",
              "      <td>75</td>\n",
              "      <td>6</td>\n",
              "      <td>2</td>\n",
              "      <td>10</td>\n",
              "    </tr>\n",
              "    <tr>\n",
              "      <th>cat(真實)</th>\n",
              "      <td>27</td>\n",
              "      <td>6</td>\n",
              "      <td>104</td>\n",
              "      <td>598</td>\n",
              "      <td>42</td>\n",
              "      <td>117</td>\n",
              "      <td>68</td>\n",
              "      <td>19</td>\n",
              "      <td>5</td>\n",
              "      <td>14</td>\n",
              "    </tr>\n",
              "    <tr>\n",
              "      <th>deer(真實)</th>\n",
              "      <td>36</td>\n",
              "      <td>2</td>\n",
              "      <td>71</td>\n",
              "      <td>43</td>\n",
              "      <td>714</td>\n",
              "      <td>32</td>\n",
              "      <td>60</td>\n",
              "      <td>31</td>\n",
              "      <td>5</td>\n",
              "      <td>6</td>\n",
              "    </tr>\n",
              "    <tr>\n",
              "      <th>dog(真實)</th>\n",
              "      <td>17</td>\n",
              "      <td>3</td>\n",
              "      <td>51</td>\n",
              "      <td>156</td>\n",
              "      <td>44</td>\n",
              "      <td>650</td>\n",
              "      <td>44</td>\n",
              "      <td>18</td>\n",
              "      <td>8</td>\n",
              "      <td>9</td>\n",
              "    </tr>\n",
              "    <tr>\n",
              "      <th>frog(真實)</th>\n",
              "      <td>4</td>\n",
              "      <td>5</td>\n",
              "      <td>33</td>\n",
              "      <td>44</td>\n",
              "      <td>11</td>\n",
              "      <td>10</td>\n",
              "      <td>881</td>\n",
              "      <td>4</td>\n",
              "      <td>4</td>\n",
              "      <td>4</td>\n",
              "    </tr>\n",
              "    <tr>\n",
              "      <th>horse(真實)</th>\n",
              "      <td>25</td>\n",
              "      <td>3</td>\n",
              "      <td>59</td>\n",
              "      <td>40</td>\n",
              "      <td>43</td>\n",
              "      <td>50</td>\n",
              "      <td>11</td>\n",
              "      <td>750</td>\n",
              "      <td>2</td>\n",
              "      <td>17</td>\n",
              "    </tr>\n",
              "    <tr>\n",
              "      <th>ship(真實)</th>\n",
              "      <td>69</td>\n",
              "      <td>31</td>\n",
              "      <td>22</td>\n",
              "      <td>11</td>\n",
              "      <td>1</td>\n",
              "      <td>3</td>\n",
              "      <td>5</td>\n",
              "      <td>0</td>\n",
              "      <td>834</td>\n",
              "      <td>24</td>\n",
              "    </tr>\n",
              "    <tr>\n",
              "      <th>truck(真實)</th>\n",
              "      <td>37</td>\n",
              "      <td>73</td>\n",
              "      <td>9</td>\n",
              "      <td>12</td>\n",
              "      <td>0</td>\n",
              "      <td>3</td>\n",
              "      <td>6</td>\n",
              "      <td>7</td>\n",
              "      <td>15</td>\n",
              "      <td>838</td>\n",
              "    </tr>\n",
              "  </tbody>\n",
              "</table>\n",
              "</div>\n",
              "      <button class=\"colab-df-convert\" onclick=\"convertToInteractive('df-272457be-bb55-4508-bc37-aaebe398fee6')\"\n",
              "              title=\"Convert this dataframe to an interactive table.\"\n",
              "              style=\"display:none;\">\n",
              "        \n",
              "  <svg xmlns=\"http://www.w3.org/2000/svg\" height=\"24px\"viewBox=\"0 0 24 24\"\n",
              "       width=\"24px\">\n",
              "    <path d=\"M0 0h24v24H0V0z\" fill=\"none\"/>\n",
              "    <path d=\"M18.56 5.44l.94 2.06.94-2.06 2.06-.94-2.06-.94-.94-2.06-.94 2.06-2.06.94zm-11 1L8.5 8.5l.94-2.06 2.06-.94-2.06-.94L8.5 2.5l-.94 2.06-2.06.94zm10 10l.94 2.06.94-2.06 2.06-.94-2.06-.94-.94-2.06-.94 2.06-2.06.94z\"/><path d=\"M17.41 7.96l-1.37-1.37c-.4-.4-.92-.59-1.43-.59-.52 0-1.04.2-1.43.59L10.3 9.45l-7.72 7.72c-.78.78-.78 2.05 0 2.83L4 21.41c.39.39.9.59 1.41.59.51 0 1.02-.2 1.41-.59l7.78-7.78 2.81-2.81c.8-.78.8-2.07 0-2.86zM5.41 20L4 18.59l7.72-7.72 1.47 1.35L5.41 20z\"/>\n",
              "  </svg>\n",
              "      </button>\n",
              "      \n",
              "  <style>\n",
              "    .colab-df-container {\n",
              "      display:flex;\n",
              "      flex-wrap:wrap;\n",
              "      gap: 12px;\n",
              "    }\n",
              "\n",
              "    .colab-df-convert {\n",
              "      background-color: #E8F0FE;\n",
              "      border: none;\n",
              "      border-radius: 50%;\n",
              "      cursor: pointer;\n",
              "      display: none;\n",
              "      fill: #1967D2;\n",
              "      height: 32px;\n",
              "      padding: 0 0 0 0;\n",
              "      width: 32px;\n",
              "    }\n",
              "\n",
              "    .colab-df-convert:hover {\n",
              "      background-color: #E2EBFA;\n",
              "      box-shadow: 0px 1px 2px rgba(60, 64, 67, 0.3), 0px 1px 3px 1px rgba(60, 64, 67, 0.15);\n",
              "      fill: #174EA6;\n",
              "    }\n",
              "\n",
              "    [theme=dark] .colab-df-convert {\n",
              "      background-color: #3B4455;\n",
              "      fill: #D2E3FC;\n",
              "    }\n",
              "\n",
              "    [theme=dark] .colab-df-convert:hover {\n",
              "      background-color: #434B5C;\n",
              "      box-shadow: 0px 1px 3px 1px rgba(0, 0, 0, 0.15);\n",
              "      filter: drop-shadow(0px 1px 2px rgba(0, 0, 0, 0.3));\n",
              "      fill: #FFFFFF;\n",
              "    }\n",
              "  </style>\n",
              "\n",
              "      <script>\n",
              "        const buttonEl =\n",
              "          document.querySelector('#df-272457be-bb55-4508-bc37-aaebe398fee6 button.colab-df-convert');\n",
              "        buttonEl.style.display =\n",
              "          google.colab.kernel.accessAllowed ? 'block' : 'none';\n",
              "\n",
              "        async function convertToInteractive(key) {\n",
              "          const element = document.querySelector('#df-272457be-bb55-4508-bc37-aaebe398fee6');\n",
              "          const dataTable =\n",
              "            await google.colab.kernel.invokeFunction('convertToInteractive',\n",
              "                                                     [key], {});\n",
              "          if (!dataTable) return;\n",
              "\n",
              "          const docLinkHtml = 'Like what you see? Visit the ' +\n",
              "            '<a target=\"_blank\" href=https://colab.research.google.com/notebooks/data_table.ipynb>data table notebook</a>'\n",
              "            + ' to learn more about interactive tables.';\n",
              "          element.innerHTML = '';\n",
              "          dataTable['output_type'] = 'display_data';\n",
              "          await google.colab.output.renderOutput(dataTable, element);\n",
              "          const docLink = document.createElement('div');\n",
              "          docLink.innerHTML = docLinkHtml;\n",
              "          element.appendChild(docLink);\n",
              "        }\n",
              "      </script>\n",
              "    </div>\n",
              "  </div>\n",
              "  "
            ]
          },
          "metadata": {},
          "execution_count": 33
        }
      ]
    }
  ]
}