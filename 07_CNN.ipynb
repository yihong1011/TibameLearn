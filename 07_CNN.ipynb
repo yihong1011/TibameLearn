{
  "nbformat": 4,
  "nbformat_minor": 0,
  "metadata": {
    "colab": {
      "name": "07_CNN.ipynb",
      "provenance": [],
      "authorship_tag": "ABX9TyPtzaBdPgXatDdHV7aIRJek",
      "include_colab_link": true
    },
    "kernelspec": {
      "name": "python3",
      "display_name": "Python 3"
    },
    "language_info": {
      "name": "python"
    },
    "accelerator": "GPU",
    "gpuClass": "standard"
  },
  "cells": [
    {
      "cell_type": "markdown",
      "metadata": {
        "id": "view-in-github",
        "colab_type": "text"
      },
      "source": [
        "<a href=\"https://colab.research.google.com/github/yihong1011/TibameML/blob/main/07_CNN.ipynb\" target=\"_parent\"><img src=\"https://colab.research.google.com/assets/colab-badge.svg\" alt=\"Open In Colab\"/></a>"
      ]
    },
    {
      "cell_type": "markdown",
      "source": [
        "#### 載入cifar10"
      ],
      "metadata": {
        "id": "hk4qJElcveOB"
      }
    },
    {
      "cell_type": "code",
      "source": [
        "from tensorflow.keras.datasets.cifar10 import load_data\n",
        "(x_train, y_train), (x_test, y_test) = load_data()"
      ],
      "metadata": {
        "colab": {
          "base_uri": "https://localhost:8080/"
        },
        "id": "u01omASCuVPB",
        "outputId": "3677a7db-7945-4e50-edf3-cc915dff2d94"
      },
      "execution_count": 1,
      "outputs": [
        {
          "output_type": "stream",
          "name": "stdout",
          "text": [
            "Downloading data from https://www.cs.toronto.edu/~kriz/cifar-10-python.tar.gz\n",
            "170500096/170498071 [==============================] - 13s 0us/step\n",
            "170508288/170498071 [==============================] - 13s 0us/step\n"
          ]
        }
      ]
    },
    {
      "cell_type": "code",
      "execution_count": 2,
      "metadata": {
        "colab": {
          "base_uri": "https://localhost:8080/"
        },
        "id": "yRibmW6uwN1g",
        "outputId": "513c2953-cbd4-45f5-d75c-141b1ee3374e"
      },
      "outputs": [
        {
          "output_type": "stream",
          "name": "stdout",
          "text": [
            "(50000, 32, 32, 3)\n",
            "(50000, 1)\n",
            "(10000, 32, 32, 3)\n",
            "(10000, 1)\n"
          ]
        }
      ],
      "source": [
        "print(x_train.shape)\n",
        "print(y_train.shape)\n",
        "print(x_test.shape)\n",
        "print(y_test.shape)"
      ]
    },
    {
      "cell_type": "code",
      "source": [
        "trans =[\n",
        "    \"airplane\",\n",
        "    \"automobile\",\n",
        "    \"bird\",\n",
        "    \"cat\",\n",
        "    \"deer\",\n",
        "    \"dog\",\n",
        "    \"frog\",\n",
        "    \"horse\",\n",
        "    \"ship\",\n",
        "    \"truck\"\n",
        "]"
      ],
      "metadata": {
        "id": "3ne8ReWTw6EQ"
      },
      "execution_count": 3,
      "outputs": []
    },
    {
      "cell_type": "code",
      "source": [
        "import matplotlib.pyplot as plt\n",
        "import random\n",
        "idx = random.randint(0,50000)\n",
        "print(\"編號\",idx,\"的答案是:\", trans[y_train[idx][0]])\n",
        "plt.imshow(x_train[idx])"
      ],
      "metadata": {
        "colab": {
          "base_uri": "https://localhost:8080/",
          "height": 301
        },
        "id": "LKiHZ7C2vZZ8",
        "outputId": "4ba92138-eb18-4514-b0ba-19d4a58d356e"
      },
      "execution_count": 6,
      "outputs": [
        {
          "output_type": "stream",
          "name": "stdout",
          "text": [
            "編號 31986 的答案是: truck\n"
          ]
        },
        {
          "output_type": "execute_result",
          "data": {
            "text/plain": [
              "<matplotlib.image.AxesImage at 0x7fbf90591990>"
            ]
          },
          "metadata": {},
          "execution_count": 6
        },
        {
          "output_type": "display_data",
          "data": {
            "text/plain": [
              "<Figure size 432x288 with 1 Axes>"
            ],
            "image/png": "[encoded data removed]"
          },
          "metadata": {
            "needs_background": "light"
          }
        }
      ]
    },
    {
      "cell_type": "code",
      "source": [
        "from tensorflow.keras.models import Sequential\n",
        "from tensorflow.keras.layers import Conv2D, MaxPooling2D, Dense, Flatten, GlobalAveragePooling2D\n",
        "layers_test = [\n",
        "    Conv2D(64, 3, padding=\"same\", activation=\"relu\", input_shape = (32, 32, 3)),\n",
        "    MaxPooling2D(),\n",
        "    Conv2D(128, 3, padding=\"same\", activation=\"relu\"),\n",
        "    MaxPooling2D(),\n",
        "    Conv2D(256, 3, padding=\"same\", activation=\"relu\"),\n",
        "    MaxPooling2D(),\n",
        "    Flatten(),\n",
        "    Dense(10, activation=\"softmax\")\n",
        "]\n",
        "model_test = Sequential(layers_test)\n",
        "model_test.summary()"
      ],
      "metadata": {
        "colab": {
          "base_uri": "https://localhost:8080/"
        },
        "id": "pen7O7TXwnMo",
        "outputId": "e755b0fe-33f3-4ee2-b2de-d5fe398f9c17"
      },
      "execution_count": 15,
      "outputs": [
        {
          "output_type": "stream",
          "name": "stdout",
          "text": [
            "Model: \"sequential_8\"\n",
            "_________________________________________________________________\n",
            " Layer (type)                Output Shape              Param #   \n",
            "=================================================================\n",
            " conv2d_25 (Conv2D)          (None, 32, 32, 64)        1792      \n",
            "                                                                 \n",
            " max_pooling2d_24 (MaxPoolin  (None, 16, 16, 64)       0         \n",
            " g2D)                                                            \n",
            "                                                                 \n",
            " conv2d_26 (Conv2D)          (None, 16, 16, 128)       73856     \n",
            "                                                                 \n",
            " max_pooling2d_25 (MaxPoolin  (None, 8, 8, 128)        0         \n",
            " g2D)                                                            \n",
            "                                                                 \n",
            " conv2d_27 (Conv2D)          (None, 8, 8, 256)         295168    \n",
            "                                                                 \n",
            " max_pooling2d_26 (MaxPoolin  (None, 4, 4, 256)        0         \n",
            " g2D)                                                            \n",
            "                                                                 \n",
            " flatten_7 (Flatten)         (None, 4096)              0         \n",
            "                                                                 \n",
            " dense_7 (Dense)             (None, 10)                40970     \n",
            "                                                                 \n",
            "=================================================================\n",
            "Total params: 411,786\n",
            "Trainable params: 411,786\n",
            "Non-trainable params: 0\n",
            "_________________________________________________________________\n"
          ]
        }
      ]
    },
    {
      "cell_type": "code",
      "source": [
        "layers = [\n",
        "    Conv2D(64, 3, padding=\"same\", activation=\"relu\", input_shape = (32, 32, 3)),\n",
        "    MaxPooling2D(),\n",
        "    Conv2D(128, 3, padding=\"same\", activation=\"relu\"),\n",
        "    MaxPooling2D(),\n",
        "    Conv2D(256, 3, padding=\"same\", activation=\"relu\"),\n",
        "    MaxPooling2D(),\n",
        "    GlobalAveragePooling2D(),\n",
        "    Dense(10, activation=\"softmax\")\n",
        "]\n",
        "model = Sequential(layers)\n",
        "model.summary()"
      ],
      "metadata": {
        "id": "UTznuVmg1IOm",
        "outputId": "20d331f0-9111-41cf-e615-b5049788d46b",
        "colab": {
          "base_uri": "https://localhost:8080/"
        }
      },
      "execution_count": 14,
      "outputs": [
        {
          "output_type": "stream",
          "name": "stdout",
          "text": [
            "Model: \"sequential_7\"\n",
            "_________________________________________________________________\n",
            " Layer (type)                Output Shape              Param #   \n",
            "=================================================================\n",
            " conv2d_22 (Conv2D)          (None, 32, 32, 64)        1792      \n",
            "                                                                 \n",
            " max_pooling2d_21 (MaxPoolin  (None, 16, 16, 64)       0         \n",
            " g2D)                                                            \n",
            "                                                                 \n",
            " conv2d_23 (Conv2D)          (None, 16, 16, 128)       73856     \n",
            "                                                                 \n",
            " max_pooling2d_22 (MaxPoolin  (None, 8, 8, 128)        0         \n",
            " g2D)                                                            \n",
            "                                                                 \n",
            " conv2d_24 (Conv2D)          (None, 8, 8, 256)         295168    \n",
            "                                                                 \n",
            " max_pooling2d_23 (MaxPoolin  (None, 4, 4, 256)        0         \n",
            " g2D)                                                            \n",
            "                                                                 \n",
            " global_average_pooling2d (G  (None, 256)              0         \n",
            " lobalAveragePooling2D)                                          \n",
            "                                                                 \n",
            " dense_6 (Dense)             (None, 10)                2570      \n",
            "                                                                 \n",
            "=================================================================\n",
            "Total params: 373,386\n",
            "Trainable params: 373,386\n",
            "Non-trainable params: 0\n",
            "_________________________________________________________________\n"
          ]
        }
      ]
    },
    {
      "cell_type": "code",
      "source": [
        "from tensorflow.keras.losses import SparseCategoricalCrossentropy\n",
        "model.compile(loss=SparseCategoricalCrossentropy(),\n",
        "       optimizer=\"adam\",\n",
        "       metrics=[\"accuracy\"])\n",
        "x_train_norm = x_train / 255.0\n",
        "x_test_norm = x_test / 255.0"
      ],
      "metadata": {
        "id": "z-5ig8Ti_0AK"
      },
      "execution_count": 20,
      "outputs": []
    },
    {
      "cell_type": "code",
      "source": [
        "# batch_size: 你看多少筆再進行一次梯度下降(5[圖片大/訓練資料少]-200[圖片小/訓練資料多])\n",
        "# epochs: 全體資料(60000) 你要看幾輪(我們什麼時候要停的關鍵)\n",
        "# validation_split: 測試什麼時候停下來要用沒看過的資料(val loss穩定的時候就停, 不要過擬合)\n",
        "# (60000 * 0.9) / 200 -> 270\n",
        "# verbose: 0(quiet) 1(full) 2(no progress bar)\n",
        "from tensorflow.keras.callbacks import ModelCheckpoint, EarlyStopping\n",
        "callbacks = [\n",
        "    ModelCheckpoint(\"cnn.h5\", save_best_only=True),\n",
        "    EarlyStopping(patience=10, restore_best_weights=True)\n",
        "]\n",
        "model.fit(x_train_norm,\n",
        "     y_train,\n",
        "     batch_size=200,\n",
        "     epochs=50,\n",
        "     validation_split=0.1,\n",
        "     verbose=2,\n",
        "     callbacks=callbacks)"
      ],
      "metadata": {
        "id": "Mwn5N28wCoWZ",
        "outputId": "40871b63-22d8-44e9-ae48-5503a3fad4ca",
        "colab": {
          "base_uri": "https://localhost:8080/"
        }
      },
      "execution_count": 21,
      "outputs": [
        {
          "output_type": "stream",
          "name": "stdout",
          "text": [
            "Epoch 1/50\n",
            "225/225 - 16s - loss: 1.8310 - accuracy: 0.3210 - val_loss: 1.6010 - val_accuracy: 0.4100 - 16s/epoch - 69ms/step\n",
            "Epoch 2/50\n",
            "225/225 - 3s - loss: 1.5176 - accuracy: 0.4497 - val_loss: 1.4538 - val_accuracy: 0.4712 - 3s/epoch - 15ms/step\n",
            "Epoch 3/50\n",
            "225/225 - 3s - loss: 1.3794 - accuracy: 0.5082 - val_loss: 1.3263 - val_accuracy: 0.5246 - 3s/epoch - 15ms/step\n",
            "Epoch 4/50\n",
            "225/225 - 3s - loss: 1.2763 - accuracy: 0.5457 - val_loss: 1.2424 - val_accuracy: 0.5556 - 3s/epoch - 15ms/step\n",
            "Epoch 5/50\n",
            "225/225 - 3s - loss: 1.2052 - accuracy: 0.5725 - val_loss: 1.1500 - val_accuracy: 0.5912 - 3s/epoch - 15ms/step\n",
            "Epoch 6/50\n",
            "225/225 - 3s - loss: 1.1474 - accuracy: 0.5968 - val_loss: 1.0740 - val_accuracy: 0.6236 - 3s/epoch - 15ms/step\n",
            "Epoch 7/50\n",
            "225/225 - 3s - loss: 1.0947 - accuracy: 0.6170 - val_loss: 1.0703 - val_accuracy: 0.6236 - 3s/epoch - 15ms/step\n",
            "Epoch 8/50\n",
            "225/225 - 3s - loss: 1.0374 - accuracy: 0.6378 - val_loss: 1.0277 - val_accuracy: 0.6426 - 3s/epoch - 15ms/step\n",
            "Epoch 9/50\n",
            "225/225 - 3s - loss: 0.9981 - accuracy: 0.6530 - val_loss: 0.9681 - val_accuracy: 0.6640 - 3s/epoch - 15ms/step\n",
            "Epoch 10/50\n",
            "225/225 - 4s - loss: 0.9597 - accuracy: 0.6654 - val_loss: 0.9686 - val_accuracy: 0.6680 - 4s/epoch - 16ms/step\n",
            "Epoch 11/50\n",
            "225/225 - 3s - loss: 0.9277 - accuracy: 0.6776 - val_loss: 0.9510 - val_accuracy: 0.6682 - 3s/epoch - 15ms/step\n",
            "Epoch 12/50\n",
            "225/225 - 3s - loss: 0.9013 - accuracy: 0.6843 - val_loss: 0.9116 - val_accuracy: 0.6862 - 3s/epoch - 15ms/step\n",
            "Epoch 13/50\n",
            "225/225 - 3s - loss: 0.8644 - accuracy: 0.6990 - val_loss: 0.8939 - val_accuracy: 0.6890 - 3s/epoch - 15ms/step\n",
            "Epoch 14/50\n",
            "225/225 - 3s - loss: 0.8388 - accuracy: 0.7076 - val_loss: 0.8590 - val_accuracy: 0.7020 - 3s/epoch - 15ms/step\n",
            "Epoch 15/50\n",
            "225/225 - 4s - loss: 0.8141 - accuracy: 0.7175 - val_loss: 0.8885 - val_accuracy: 0.6912 - 4s/epoch - 16ms/step\n",
            "Epoch 16/50\n",
            "225/225 - 3s - loss: 0.7930 - accuracy: 0.7234 - val_loss: 0.8463 - val_accuracy: 0.7092 - 3s/epoch - 15ms/step\n",
            "Epoch 17/50\n",
            "225/225 - 4s - loss: 0.7672 - accuracy: 0.7338 - val_loss: 0.8292 - val_accuracy: 0.7132 - 4s/epoch - 16ms/step\n",
            "Epoch 18/50\n",
            "225/225 - 4s - loss: 0.7432 - accuracy: 0.7423 - val_loss: 0.7840 - val_accuracy: 0.7362 - 4s/epoch - 16ms/step\n",
            "Epoch 19/50\n",
            "225/225 - 3s - loss: 0.7215 - accuracy: 0.7504 - val_loss: 0.7871 - val_accuracy: 0.7308 - 3s/epoch - 15ms/step\n",
            "Epoch 20/50\n",
            "225/225 - 4s - loss: 0.6973 - accuracy: 0.7580 - val_loss: 0.7796 - val_accuracy: 0.7310 - 4s/epoch - 16ms/step\n",
            "Epoch 21/50\n",
            "225/225 - 3s - loss: 0.6866 - accuracy: 0.7629 - val_loss: 0.7896 - val_accuracy: 0.7346 - 3s/epoch - 15ms/step\n",
            "Epoch 22/50\n",
            "225/225 - 3s - loss: 0.6588 - accuracy: 0.7726 - val_loss: 0.7408 - val_accuracy: 0.7480 - 3s/epoch - 15ms/step\n",
            "Epoch 23/50\n",
            "225/225 - 3s - loss: 0.6385 - accuracy: 0.7798 - val_loss: 0.7609 - val_accuracy: 0.7434 - 3s/epoch - 15ms/step\n",
            "Epoch 24/50\n",
            "225/225 - 4s - loss: 0.6186 - accuracy: 0.7852 - val_loss: 0.7268 - val_accuracy: 0.7494 - 4s/epoch - 16ms/step\n",
            "Epoch 25/50\n",
            "225/225 - 4s - loss: 0.6051 - accuracy: 0.7907 - val_loss: 0.7212 - val_accuracy: 0.7562 - 4s/epoch - 16ms/step\n",
            "Epoch 26/50\n",
            "225/225 - 3s - loss: 0.5808 - accuracy: 0.8009 - val_loss: 0.7288 - val_accuracy: 0.7544 - 3s/epoch - 15ms/step\n",
            "Epoch 27/50\n",
            "225/225 - 3s - loss: 0.5658 - accuracy: 0.8053 - val_loss: 0.7689 - val_accuracy: 0.7430 - 3s/epoch - 15ms/step\n",
            "Epoch 28/50\n",
            "225/225 - 3s - loss: 0.5548 - accuracy: 0.8084 - val_loss: 0.7509 - val_accuracy: 0.7530 - 3s/epoch - 15ms/step\n",
            "Epoch 29/50\n",
            "225/225 - 4s - loss: 0.5334 - accuracy: 0.8167 - val_loss: 0.6968 - val_accuracy: 0.7682 - 4s/epoch - 16ms/step\n",
            "Epoch 30/50\n",
            "225/225 - 3s - loss: 0.5152 - accuracy: 0.8224 - val_loss: 0.6866 - val_accuracy: 0.7720 - 3s/epoch - 15ms/step\n",
            "Epoch 31/50\n",
            "225/225 - 3s - loss: 0.5017 - accuracy: 0.8276 - val_loss: 0.6878 - val_accuracy: 0.7686 - 3s/epoch - 15ms/step\n",
            "Epoch 32/50\n",
            "225/225 - 3s - loss: 0.4824 - accuracy: 0.8355 - val_loss: 0.7217 - val_accuracy: 0.7596 - 3s/epoch - 15ms/step\n",
            "Epoch 33/50\n",
            "225/225 - 3s - loss: 0.4606 - accuracy: 0.8418 - val_loss: 0.6847 - val_accuracy: 0.7712 - 3s/epoch - 15ms/step\n",
            "Epoch 34/50\n",
            "225/225 - 3s - loss: 0.4559 - accuracy: 0.8431 - val_loss: 0.7394 - val_accuracy: 0.7630 - 3s/epoch - 15ms/step\n",
            "Epoch 35/50\n",
            "225/225 - 3s - loss: 0.4343 - accuracy: 0.8518 - val_loss: 0.6960 - val_accuracy: 0.7764 - 3s/epoch - 15ms/step\n",
            "Epoch 36/50\n",
            "225/225 - 3s - loss: 0.4293 - accuracy: 0.8535 - val_loss: 0.6984 - val_accuracy: 0.7692 - 3s/epoch - 15ms/step\n",
            "Epoch 37/50\n",
            "225/225 - 3s - loss: 0.3990 - accuracy: 0.8645 - val_loss: 0.7274 - val_accuracy: 0.7624 - 3s/epoch - 15ms/step\n",
            "Epoch 38/50\n",
            "225/225 - 3s - loss: 0.3910 - accuracy: 0.8646 - val_loss: 0.6996 - val_accuracy: 0.7754 - 3s/epoch - 15ms/step\n",
            "Epoch 39/50\n",
            "225/225 - 3s - loss: 0.3752 - accuracy: 0.8715 - val_loss: 0.7116 - val_accuracy: 0.7730 - 3s/epoch - 15ms/step\n",
            "Epoch 40/50\n",
            "225/225 - 3s - loss: 0.3633 - accuracy: 0.8770 - val_loss: 0.7189 - val_accuracy: 0.7734 - 3s/epoch - 15ms/step\n",
            "Epoch 41/50\n",
            "225/225 - 3s - loss: 0.3470 - accuracy: 0.8811 - val_loss: 0.7151 - val_accuracy: 0.7744 - 3s/epoch - 15ms/step\n",
            "Epoch 42/50\n",
            "225/225 - 3s - loss: 0.3309 - accuracy: 0.8883 - val_loss: 0.7227 - val_accuracy: 0.7762 - 3s/epoch - 15ms/step\n",
            "Epoch 43/50\n",
            "225/225 - 3s - loss: 0.3149 - accuracy: 0.8927 - val_loss: 0.7400 - val_accuracy: 0.7704 - 3s/epoch - 15ms/step\n"
          ]
        },
        {
          "output_type": "execute_result",
          "data": {
            "text/plain": [
              "<keras.callbacks.History at 0x7fbf26192950>"
            ]
          },
          "metadata": {},
          "execution_count": 21
        }
      ]
    }
  ]
}